{
 "cells": [
  {
   "cell_type": "code",
   "execution_count": 1,
   "metadata": {},
   "outputs": [],
   "source": [
    "import numpy as np\n",
    "import matplotlib.pyplot as plt\n",
    "import os\n",
    "import scipy.io as sio"
   ]
  },
  {
   "cell_type": "code",
   "execution_count": 2,
   "metadata": {
    "scrolled": false
   },
   "outputs": [
    {
     "name": "stdout",
     "output_type": "stream",
     "text": [
      "(160, 1)\n",
      "(513, 17, 160)\n",
      "(160, 1)\n",
      "(513, 17, 160)\n",
      "(160, 1)\n",
      "(513, 17, 160)\n",
      "(168, 1)\n",
      "(513, 17, 168)\n",
      "(160, 1)\n",
      "(513, 17, 160)\n",
      "(160, 1)\n",
      "(513, 17, 160)\n",
      "(160, 1)\n",
      "(513, 17, 160)\n"
     ]
    }
   ],
   "source": [
    "data_path = '../../ERPdata/data/'\n",
    "\n",
    "\n",
    "\n",
    "directory_x = data_path + 'x/'\n",
    "directory_y = data_path + 'y/'\n",
    "lable = []\n",
    "all_x=[]\n",
    "first = True\n",
    "for filename in os.listdir(directory_x):\n",
    "    if filename.endswith(\".mat\"):\n",
    "        file_path_x = directory_x + filename\n",
    "        file_path_y = directory_y + \"y_\" + filename\n",
    "\n",
    "        x         = sio.loadmat(file_path_x)\n",
    "        y         = sio.loadmat(file_path_y)\n",
    "        \n",
    "        x         = np.transpose( x['X'] )\n",
    "        y         = np.transpose(y['y'] )\n",
    "        \n",
    "        p_idx     = y == 1\n",
    "#         n_idx     = \n",
    "        \n",
    "        size_of_pos =  np.sum(p_idx) \n",
    "    \n",
    "        good_p_idx = np.where( y == 1 )[0]        \n",
    "\n",
    "        good_n_idx = np.where( y == 0 )[0]        \n",
    "        good_n_idx= good_n_idx[0:size_of_pos]\n",
    "           \n",
    "        all_idx = np.concatenate((good_p_idx, good_n_idx), axis=0)\n",
    "          \n",
    "\n",
    "        y = y[all_idx]    \n",
    "\n",
    "        x = x[:, :, all_idx]    \n",
    "        \n",
    "        print(np.shape(y))\n",
    "        print(np.shape(x))\n",
    "\n",
    "        y = np.repeat(y, 16)\n",
    "        x = x[:,0:16,:]\n",
    "        x = np.reshape(x, (513, -1), order = 'F')\n",
    "\n",
    "        if first==True:\n",
    "\n",
    "            lable = y\n",
    "            all_x = x\n",
    "            first=False\n",
    "\n",
    "        else:\n",
    "\n",
    "            lable = np.concatenate((lable, y), axis=0)\n",
    "            all_x = np.concatenate((all_x, x), axis=1)\n",
    "        \n",
    "        \n",
    "    else:\n",
    "        continue\n",
    "        "
   ]
  },
  {
   "cell_type": "code",
   "execution_count": 3,
   "metadata": {},
   "outputs": [
    {
     "name": "stdout",
     "output_type": "stream",
     "text": [
      "(18048,)\n",
      "(513, 18048)\n"
     ]
    }
   ],
   "source": [
    "print(np.shape(lable))\n",
    "print(np.shape(all_x))            \n",
    "\n"
   ]
  },
  {
   "cell_type": "code",
   "execution_count": 4,
   "metadata": {},
   "outputs": [
    {
     "name": "stdout",
     "output_type": "stream",
     "text": [
      "../../ERPdata/data/test/y.mat\n"
     ]
    }
   ],
   "source": [
    "#print(lable.shape[0])\n",
    "\n",
    "path_to_save = data_path + \"result/\"\n",
    "y_path = path_to_save + \"y.mat\"\n",
    "print(y_path)\n",
    "sio.savemat(y_path, {'y':lable})\n",
    "for ii in range(lable.shape[0]):\n",
    "    x_path = path_to_save + str(ii) + \".mat\"\n",
    "    X = all_x[:, ii]\n",
    "    sio.savemat(x_path, {'X':X})\n",
    "    \n",
    "    "
   ]
  },
  {
   "cell_type": "code",
   "execution_count": null,
   "metadata": {},
   "outputs": [],
   "source": []
  }
 ],
 "metadata": {
  "kernelspec": {
   "display_name": "Python 3",
   "language": "python",
   "name": "python3"
  },
  "language_info": {
   "codemirror_mode": {
    "name": "ipython",
    "version": 3
   },
   "file_extension": ".py",
   "mimetype": "text/x-python",
   "name": "python",
   "nbconvert_exporter": "python",
   "pygments_lexer": "ipython3",
   "version": "3.6.7"
  }
 },
 "nbformat": 4,
 "nbformat_minor": 2
}
